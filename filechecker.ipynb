{
 "cells": [
  {
   "cell_type": "code",
   "execution_count": 1,
   "metadata": {},
   "outputs": [
    {
     "name": "stdout",
     "output_type": "stream",
     "text": [
      "Unused Assets:\n",
      "./assets/ball_grey.png\n",
      "./assets/ball_grey_explode.png\n",
      "./assets/ball_pink.png\n",
      "./assets/ball_pinkOLD.png\n",
      "./assets/ball_pink_explode.afphoto\n",
      "./assets/ball_pink_explode.png\n",
      "./assets/ball_purple.png\n",
      "./assets/ball_purpleOLD.png\n",
      "./assets/ball_purple_explode.png\n",
      "./assets/BG1.afphoto\n",
      "./assets/BG1.JPG\n",
      "./assets/BG2.JPG\n",
      "./assets/BG3.JPG\n",
      "./assets/diamond_pink.afphoto\n",
      "./assets/explode.afphoto\n",
      "./assets/mineral1.png\n",
      "./assets/planet - Copy.png\n",
      "./assets/spaceship1.png\n",
      "./assets/spaceship2.png\n",
      "./assets/spaceship3.png\n",
      "./assets/spaceship5.png\n",
      "./assets/stars.png\n",
      "./assets/twinkle.png\n"
     ]
    }
   ],
   "source": [
    "import os\n",
    "\n",
    "def list_files(directory):\n",
    "    \"\"\"List all files in a directory recursively.\"\"\"\n",
    "    files = []\n",
    "    for root, _, filenames in os.walk(directory):\n",
    "        for filename in filenames:\n",
    "            files.append(os.path.join(root, filename))\n",
    "    return files\n",
    "\n",
    "def is_asset_used(asset, src_files):\n",
    "    \"\"\"Check if an asset is used in any of the source files.\"\"\"\n",
    "    asset_name = os.path.basename(asset)\n",
    "    for src_file in src_files:\n",
    "        with open(src_file, 'r', encoding='utf-8') as file:\n",
    "            if asset_name in file.read():\n",
    "                return True\n",
    "    return False\n",
    "\n",
    "def find_unused_assets(assets_dir, src_dir):\n",
    "    \"\"\"Find and print assets that are not used in the source directory.\"\"\"\n",
    "    assets = list_files(assets_dir)\n",
    "    src_files = list_files(src_dir)\n",
    "\n",
    "    unused_assets = [asset for asset in assets if not is_asset_used(asset, src_files)]\n",
    "\n",
    "    if unused_assets:\n",
    "        print(\"Unused Assets:\")\n",
    "        for asset in unused_assets:\n",
    "            print(asset)\n",
    "    else:\n",
    "        print(\"All assets are in use.\")\n",
    "\n",
    "# Define your directories\n",
    "assets_dir = './assets/'\n",
    "src_dir =  './src/'\n",
    "\n",
    "find_unused_assets(assets_dir, src_dir)\n"
   ]
  }
 ],
 "metadata": {
  "kernelspec": {
   "display_name": "ia_env",
   "language": "python",
   "name": "python3"
  },
  "language_info": {
   "codemirror_mode": {
    "name": "ipython",
    "version": 3
   },
   "file_extension": ".py",
   "mimetype": "text/x-python",
   "name": "python",
   "nbconvert_exporter": "python",
   "pygments_lexer": "ipython3",
   "version": "3.8.16"
  }
 },
 "nbformat": 4,
 "nbformat_minor": 2
}
